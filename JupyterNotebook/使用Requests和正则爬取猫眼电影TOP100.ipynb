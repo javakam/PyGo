{
 "cells": [
  {
   "cell_type": "markdown",
   "id": "d43b4c75",
   "metadata": {},
   "source": [
    "# requests + 正则表达式 爬取猫眼电影TOP100"
   ]
  },
  {
   "cell_type": "markdown",
   "id": "c338072a",
   "metadata": {
    "ExecuteTime": {
     "end_time": "2021-12-16T04:55:42.957308Z",
     "start_time": "2021-12-16T04:55:42.947796Z"
    }
   },
   "source": [
    "## Pycharm\n",
    "https://maoyan.com/board/4"
   ]
  },
  {
   "cell_type": "code",
   "execution_count": 21,
   "id": "601ad84a",
   "metadata": {
    "ExecuteTime": {
     "end_time": "2021-12-16T06:49:43.450622Z",
     "start_time": "2021-12-16T06:49:43.177981Z"
    },
    "scrolled": false
   },
   "outputs": [
    {
     "name": "stdout",
     "output_type": "stream",
     "text": [
      "10\n",
      "1 https://www.maoyan.com/films/1200486 https://p0.pipi.cn/mmdb/d2dad59253751bd236338fa5bd5a27c710413.jpg?imageView2/1/w/160/h/220 我不是药神 主演：徐峥,周一围,王传君 上映时间：2018-07-05 9.6\n",
      "2 https://www.maoyan.com/films/1297 https://p0.pipi.cn/mmdb/d2dad592c7e7e1d236f2aa1811a8a64794b33.jpg?imageView2/1/w/160/h/220 肖申克的救赎 主演：蒂姆·罗宾斯,摩根·弗里曼,鲍勃·冈顿 上映时间：1994-09-10(加拿大) 9.5\n",
      "3 https://www.maoyan.com/films/1206605 https://p0.pipi.cn/mmdb/d2dad59253751b230f21f0818a5bfd4d8679c.jpg?imageView2/1/w/160/h/220 绿皮书 主演：维果·莫腾森,马赫沙拉·阿里,琳达·卡德里尼 上映时间：2019-03-01 9.5\n",
      "4 https://www.maoyan.com/films/1292 https://p0.pipi.cn/mmdb/d2dad592c7e7e1d2365bf1b63cd25951b722b.jpg?imageView2/1/w/160/h/220 海上钢琴师 主演：蒂姆·罗斯,比尔·努恩,克兰伦斯·威廉姆斯三世 上映时间：2019-11-15 9.3\n",
      "5 https://www.maoyan.com/films/1211270 https://p0.pipi.cn/mmdb/d2dad592537923f0ee07acada3ac59b9f3ffb.jpg?imageView2/1/w/160/h/220 哪吒之魔童降世 主演：吕艳婷,囧森瑟夫,瀚墨 上映时间：2019-07-26 9.6\n",
      "6 https://www.maoyan.com/films/1203 https://p0.pipi.cn/mmdb/d2dad592c7e7e1d236d7c3c9b6a0b65c4d19d.jpg?imageView2/1/w/160/h/220 霸王别姬 主演：张国荣,张丰毅,巩俐 上映时间：1993-07-26 9.4\n",
      "7 https://www.maoyan.com/films/1216365 https://p0.pipi.cn/mmdb/d2dad5925372ffd7c387a9d01bddad81625c3.jpg?imageView2/1/w/160/h/220 小偷家族 主演：中川雅也,利利·弗兰克,安藤樱 上映时间：2018-08-03 8.1\n",
      "8 https://www.maoyan.com/films/1303 https://p0.pipi.cn/mmdb/d2dad592c7e7e1d2367a3507befaed31a5903.jpg?imageView2/1/w/160/h/220 美丽人生 主演：罗伯托·贝尼尼,朱斯蒂诺·杜拉诺,赛尔乔·比尼·布斯特里克 上映时间：2020-01-03 9.3\n",
      "9 https://www.maoyan.com/films/4055 https://p0.pipi.cn/mmdb/d2dad592c7e7e13ba3ddd25677b4d70fc45fa.jpg?imageView2/1/w/160/h/220 这个杀手不太冷 主演：让·雷诺,加里·奥德曼,娜塔莉·波特曼 上映时间：1994-09-14(法国) 9.4\n",
      "10 https://www.maoyan.com/films/46818 https://p0.pipi.cn/mmdb/d2dad592b122ff8d3387a93ccab6036f616c1.jpg?imageView2/1/w/160/h/220 怦然心动 主演：玛德琳·卡罗尔,卡兰·麦克奥利菲,艾丹·奎因 上映时间：2010-07-26(美国) 8.9\n"
     ]
    }
   ],
   "source": [
    "# 基础版本 抓取数据并解析成字符串打印\n",
    "import re\n",
    "import requests\n",
    "import lxml\n",
    "from bs4 import BeautifulSoup\n",
    "from requests.exceptions import RequestException\n",
    "\n",
    "\n",
    "def get_one_page(url, headers):\n",
    "    try:\n",
    "        response = requests.get(url, headers=headers)\n",
    "        if response.status_code == 200:\n",
    "            return response.text\n",
    "        else:\n",
    "            print(response.status_code, response.headers)\n",
    "            return None\n",
    "    except RequestException:\n",
    "        return None\n",
    "\n",
    "\n",
    "def parse_one_page(html):\n",
    "    # print(html)\n",
    "    soup = BeautifulSoup(html, 'lxml')\n",
    "    html_ = soup.find('div', class_='main')\n",
    "    # print(str(html_))\n",
    "    pattern = re.compile('<dd.*?board-index.*?(\\d*)</i>.*?<a.*?href=\"(.*?)\".*?>.*?board-img.*?src=\"(.*?)\".*?'\n",
    "                         'name.*?title=\"(.*?)\".*?star.*?>(.*?)</p>.*?releasetime.*?>(.*?)</p>.*?'\n",
    "                         'integer.*?>(.*?)</i>.*?fraction.*?>(.*?)</i>.*?</dd>', re.S)\n",
    "    items = re.findall(pattern, str(html_))\n",
    "    print(len(items))\n",
    "    for r in items:\n",
    "        index, url, cover, title, star, releasetime, integer, fraction = r  # releasetime 上映时间\n",
    "        url = f\"https://www.maoyan.com{url}\"\n",
    "        score = f\"{integer}{fraction}\"\n",
    "        star = re.sub('\\s', '', star)\n",
    "        releasetime = re.sub('\\s', '', releasetime)\n",
    "        print(index, url, cover, title, star, releasetime, score)\n",
    "\n",
    "        \n",
    "\n",
    "def main():\n",
    "    headers = {\n",
    "        \"User-Agent\": \"Mozilla/5.0 (Windows NT 10.0; Win64; x64; rv:76.0) Gecko/20100101 Firefox/76.0\",\n",
    "        \"Accept\": \"text/html,application/xhtml+xml,application/xml;q=0.9,image/webp,*/*;q=0.8\",\n",
    "        \"Accept-Language\": \"zh-CN,zh;q=0.8,zh-TW;q=0.7,zh-HK;q=0.5,en-US;q=0.3,en;q=0.2\",\n",
    "        \"Connection\": \"close\"\n",
    "    }\n",
    "    url = 'https://maoyan.com/board/4'\n",
    "    html = get_one_page(url, headers)\n",
    "    parse_one_page(html)\n",
    "\n",
    "\n",
    "if __name__ == '__main__':\n",
    "    main()\n"
   ]
  },
  {
   "cell_type": "markdown",
   "id": "a4d12039",
   "metadata": {},
   "source": [
    "---"
   ]
  },
  {
   "cell_type": "code",
   "execution_count": null,
   "id": "fa369592",
   "metadata": {
    "ExecuteTime": {
     "start_time": "2021-12-16T07:38:35.717Z"
    }
   },
   "outputs": [],
   "source": [
    "import json\n",
    "import re\n",
    "import requests\n",
    "from time import time\n",
    "from multiprocessing import Pool\n",
    "from bs4 import BeautifulSoup\n",
    "from requests.exceptions import RequestException\n",
    "\n",
    "\n",
    "def get_one_page(url, headers):\n",
    "    try:\n",
    "        response = requests.get(url, headers=headers)\n",
    "        if response.status_code == 200:\n",
    "            return response.text\n",
    "        else:\n",
    "            print(response.status_code, response.headers)\n",
    "            return None\n",
    "    except RequestException:\n",
    "        return None\n",
    "\n",
    "\n",
    "def parse_one_page(html):\n",
    "    # print(html)\n",
    "    soup = BeautifulSoup(html, 'lxml')\n",
    "    html_ = soup.find('div', class_='main')\n",
    "    # print(str(html_))\n",
    "    pattern = re.compile('<dd.*?board-index.*?(\\d*)</i>.*?<a.*?href=\"(.*?)\".*?>.*?board-img.*?src=\"(.*?)\".*?'\n",
    "                         'name.*?title=\"(.*?)\".*?star.*?>(.*?)</p>.*?releasetime.*?>(.*?)</p>.*?'\n",
    "                         'integer.*?>(.*?)</i>.*?fraction.*?>(.*?)</i>.*?</dd>', re.S)\n",
    "    items = re.findall(pattern, str(html_))\n",
    "    print(len(items))\n",
    "    for r in items:\n",
    "        # index, url, cover, title, actor, releasetime, integer, fraction = r  # releasetime 上映时间\n",
    "        # url = f\"https://www.maoyan.com{url}\"\n",
    "        # score = f\"{integer}{fraction}\"\n",
    "        # actor = re.sub('\\s', '', actor)\n",
    "        # releasetime = re.sub('\\s', '', releasetime)\n",
    "        # print(index, url, cover, title, star, releasetime, score)\n",
    "\n",
    "        # 或者\n",
    "        yield {\n",
    "            'index': r[0],\n",
    "            'title': r[3],\n",
    "            'actor': r[4].strip()[3:],  # \"主演：徐峥\" 👉 \"徐峥\"\n",
    "            'releasetime': r[5].strip()[5:],  # 同理: 上映时间：2020-01-03 9.3 👉 2020-01-03 9.3\n",
    "            'score': r[6] + r[7],\n",
    "            'url': f\"https://www.maoyan.com{r[1]}\",\n",
    "            'cover': r[2]\n",
    "        }\n",
    "\n",
    "\n",
    "# def write_to_file(content):\n",
    "#     # 'a' 表示追加\n",
    "#     with open('result_maoyan.txt', 'a', encoding='utf8') as f:\n",
    "#         f.write(json.dumps(content, ensure_ascii=False) + '\\n')\n",
    "#         f.close()\n",
    "\n",
    "\n",
    "def main(offset):\n",
    "    headers = {\n",
    "        \"User-Agent\": \"Mozilla/5.0 (Windows NT 10.0; Win64; x64; rv:76.0) Gecko/20100101 Firefox/76.0\",\n",
    "        \"Accept\": \"text/html,application/xhtml+xml,application/xml;q=0.9,image/webp,*/*;q=0.8\",\n",
    "        \"Accept-Language\": \"zh-CN,zh;q=0.8,zh-TW;q=0.7,zh-HK;q=0.5,en-US;q=0.3,en;q=0.2\",\n",
    "        \"Connection\": \"close\"\n",
    "    }\n",
    "    url = f'https://maoyan.com/board/4?offset={offset}'\n",
    "    html = get_one_page(url, headers)\n",
    "    for item in parse_one_page(html):\n",
    "        print(item)\n",
    "#         write_to_file(item)\n",
    "\n",
    "\n",
    "if __name__ == '__main__':\n",
    "    # 猫眼 TOP100 共 10页数据每页十条\n",
    "    start = time()\n",
    "\n",
    "    # 耗时：2.844808340072632秒\n",
    "    # for i in range(10):\n",
    "    #     main(i * 10)\n",
    "\n",
    "    # 耗时：1.3851382732391357秒\n",
    "    pool = Pool()\n",
    "    pool.map(main, [i * 10 for i in range(10)])\n",
    "\n",
    "    end = time()\n",
    "    print(\"耗时：\" + str(end - start) + \"秒\")\n"
   ]
  },
  {
   "cell_type": "code",
   "execution_count": null,
   "id": "07bd984e",
   "metadata": {},
   "outputs": [],
   "source": []
  },
  {
   "cell_type": "code",
   "execution_count": null,
   "id": "9580a39f",
   "metadata": {},
   "outputs": [],
   "source": []
  },
  {
   "cell_type": "code",
   "execution_count": null,
   "id": "af020808",
   "metadata": {},
   "outputs": [],
   "source": []
  },
  {
   "cell_type": "code",
   "execution_count": null,
   "id": "a2d71e71",
   "metadata": {},
   "outputs": [],
   "source": []
  },
  {
   "cell_type": "code",
   "execution_count": null,
   "id": "d5bfd5e9",
   "metadata": {},
   "outputs": [],
   "source": []
  },
  {
   "cell_type": "code",
   "execution_count": null,
   "id": "66896035",
   "metadata": {},
   "outputs": [],
   "source": []
  },
  {
   "cell_type": "code",
   "execution_count": null,
   "id": "6c557d66",
   "metadata": {},
   "outputs": [],
   "source": []
  },
  {
   "cell_type": "code",
   "execution_count": null,
   "id": "a370add1",
   "metadata": {},
   "outputs": [],
   "source": []
  },
  {
   "cell_type": "code",
   "execution_count": null,
   "id": "a179215f",
   "metadata": {},
   "outputs": [],
   "source": []
  },
  {
   "cell_type": "code",
   "execution_count": null,
   "id": "56549a11",
   "metadata": {},
   "outputs": [],
   "source": []
  },
  {
   "cell_type": "code",
   "execution_count": null,
   "id": "22159898",
   "metadata": {},
   "outputs": [],
   "source": []
  }
 ],
 "metadata": {
  "kernelspec": {
   "display_name": "Python 3 (ipykernel)",
   "language": "python",
   "name": "python3"
  },
  "language_info": {
   "codemirror_mode": {
    "name": "ipython",
    "version": 3
   },
   "file_extension": ".py",
   "mimetype": "text/x-python",
   "name": "python",
   "nbconvert_exporter": "python",
   "pygments_lexer": "ipython3",
   "version": "3.10.0"
  },
  "toc": {
   "base_numbering": 1,
   "nav_menu": {},
   "number_sections": true,
   "sideBar": true,
   "skip_h1_title": false,
   "title_cell": "Table of Contents",
   "title_sidebar": "Contents",
   "toc_cell": false,
   "toc_position": {},
   "toc_section_display": true,
   "toc_window_display": false
  }
 },
 "nbformat": 4,
 "nbformat_minor": 5
}
