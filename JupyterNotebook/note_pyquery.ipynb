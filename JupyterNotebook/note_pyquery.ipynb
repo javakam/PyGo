{
 "cells": [
  {
   "cell_type": "markdown",
   "id": "50776207",
   "metadata": {},
   "source": [
    "# PyQuery"
   ]
  },
  {
   "cell_type": "code",
   "execution_count": 1,
   "id": "a1627ec6",
   "metadata": {
    "ExecuteTime": {
     "end_time": "2021-12-17T07:42:54.460115Z",
     "start_time": "2021-12-17T07:42:54.100318Z"
    },
    "scrolled": false
   },
   "outputs": [
    {
     "name": "stdout",
     "output_type": "stream",
     "text": [
      "--------------======== url初始化 ========-------------\n",
      "<head><meta http-equiv=\"content-type\" content=\"text/html;charset=utf-8\"/><meta http-equiv=\"X-UA-Compatible\" content=\"IE=Edge\"/><meta content=\"always\" name=\"referrer\"/><link rel=\"stylesheet\" type=\"text/css\" href=\"http://s1.bdstatic.com/r/www/cache/bdorz/baidu.min.css\"/><title>ç¾åº¦ä¸ä¸ï¼ä½ å°±ç¥é</title></head> \n",
      "--------------======== 基本CSS选择器 ========-------------\n",
      "<li class=\"element-0\">苹果</li>\n",
      "        <li class=\"element-1\">香蕉</li>\n",
      "        <li class=\"element\">柠檬</li>\n",
      "    <li class=\"element-0 active\" id=\"apple-2\">苹</li>\n",
      "        <li class=\"element-1 active\"><a href=\"http://www.baidu.com\">香</a></li>\n",
      "        <li class=\"element\">柠</li>\n",
      "    \n",
      "--------------======== 子元素 ========-------------\n",
      "<class 'pyquery.pyquery.PyQuery'>\n",
      "<ul type=\"disc\" class=\"list\" id=\"list-1\">\n",
      "        <li class=\"element-0\">苹果</li>\n",
      "        <li class=\"element-1\">香蕉</li>\n",
      "        <li class=\"element\">柠檬</li>\n",
      "    </ul>  \n",
      "    <ul type=\"circle\" class=\"list list-small\" id=\"list-2\">\n",
      "        <li class=\"element-0 active\" id=\"apple-2\">苹</li>\n",
      "        <li class=\"element-1 active\"><a href=\"http://www.baidu.com\">香</a></li>\n",
      "        <li class=\"element\">柠</li>\n",
      "    </ul>\n",
      "\n",
      "--------------======== find('li') ========-------------\n",
      "<li class=\"element-0\">苹果</li>\n",
      "        <li class=\"element-1\">香蕉</li>\n",
      "        <li class=\"element\">柠檬</li>\n",
      "    <li class=\"element-0 active\" id=\"apple-2\">苹</li>\n",
      "        <li class=\"element-1 active\"><a href=\"http://www.baidu.com\">香</a></li>\n",
      "        <li class=\"element\">柠</li>\n",
      "    \n",
      "--------------======== find('#apple-2') ========-------------\n",
      "<li class=\"element-0 active\" id=\"apple-2\">苹</li>\n",
      "        \n",
      "苹\n",
      "--------------======== children('.active') ========-------------\n",
      "<li class=\"element-0 active\" id=\"apple-2\">苹</li>\n",
      "        <li class=\"element-1 active\"><a href=\"http://www.baidu.com\">香</a></li>\n",
      "        \n",
      "--------------======== 父元素 ========-------------\n",
      "--------------======== parent ========-------------\n",
      "<ul type=\"circle\" class=\"list list-small\" id=\"list-2\">\n",
      "        <li class=\"element-0 active\" id=\"apple-2\">苹</li>\n",
      "        <li class=\"element-1 active\"><a href=\"http://www.baidu.com\">香</a></li>\n",
      "        <li class=\"element\">柠</li>\n",
      "    </ul>\n",
      "\n",
      "--------------======== parents ========-------------\n",
      "<div id=\"container\" class=\"box\">\n",
      "    <ul type=\"disc\" class=\"list\" id=\"list-1\">\n",
      "        <li class=\"element-0\">苹果</li>\n",
      "        <li class=\"element-1\">香蕉</li>\n",
      "        <li class=\"element\">柠檬</li>\n",
      "    </ul>  \n",
      "    <ul type=\"circle\" class=\"list list-small\" id=\"list-2\">\n",
      "        <li class=\"element-0 active\" id=\"apple-2\">苹</li>\n",
      "        <li class=\"element-1 active\"><a href=\"http://www.baidu.com\">香</a></li>\n",
      "        <li class=\"element\">柠</li>\n",
      "    </ul>\n",
      "</div><ul type=\"circle\" class=\"list list-small\" id=\"list-2\">\n",
      "        <li class=\"element-0 active\" id=\"apple-2\">苹</li>\n",
      "        <li class=\"element-1 active\"><a href=\"http://www.baidu.com\">香</a></li>\n",
      "        <li class=\"element\">柠</li>\n",
      "    </ul>\n",
      "\n",
      "--------------======== parents('.list') ========-------------\n",
      "<ul type=\"circle\" class=\"list list-small\" id=\"list-2\">\n",
      "        <li class=\"element-0 active\" id=\"apple-2\">苹</li>\n",
      "        <li class=\"element-1 active\"><a href=\"http://www.baidu.com\">香</a></li>\n",
      "        <li class=\"element\">柠</li>\n",
      "    </ul>\n",
      "\n",
      "--------------======== 兄弟元素 ========-------------\n",
      "<li class=\"element-1 active\"><a href=\"http://www.baidu.com\">香</a></li>\n",
      "        <li class=\"element\">柠</li>\n",
      "    \n",
      "<li class=\"element-1 active\"><a href=\"http://www.baidu.com\">香</a></li>\n",
      "        \n",
      "--------------======== 遍历 ========-------------\n",
      "<li class=\"element-0\">苹果</li>\n",
      "        \n",
      "<li class=\"element-1\">香蕉</li>\n",
      "        \n",
      "<li class=\"element\">柠檬</li>\n",
      "    \n",
      "<li class=\"element-0 active\" id=\"apple-2\">苹</li>\n",
      "        \n",
      "<li class=\"element-1 active\"><a href=\"http://www.baidu.com\">香</a></li>\n",
      "        \n",
      "<li class=\"element\">柠</li>\n",
      "    \n",
      "--------------======== 获取属性 ========-------------\n",
      "<a href=\"http://www.baidu.com\">香</a>\n",
      "http://www.baidu.com\n",
      "http://www.baidu.com\n",
      "--------------======== 获取文本 ========-------------\n",
      "香\n",
      "--------------======== 获取HTML ========-------------\n",
      "<li class=\"element-1 active\"><a href=\"http://www.baidu.com\">香</a></li>\n",
      "        \n",
      "<a href=\"http://www.baidu.com\">香</a>\n"
     ]
    }
   ],
   "source": [
    "html = \"\"\"\n",
    "<div id=\"container\" class=\"box\">\n",
    "    <ul type=\"disc\" class=\"list\" id=\"list-1\">\n",
    "        <li class=\"element-0\">苹果</li>\n",
    "        <li class=\"element-1\">香蕉</li>\n",
    "        <li class=\"element\">柠檬</li>\n",
    "    </ul>  \n",
    "    <ul type=\"circle\" class=\"list list-small\" id=\"list-2\">\n",
    "        <li class=\"element-0 active\" id=\"apple-2\">苹</li>\n",
    "        <li class=\"element-1 active\"><a href=\"http://www.baidu.com\">香</a></li>\n",
    "        <li class=\"element\">柠</li>\n",
    "    </ul>\n",
    "</div>\n",
    "\"\"\"\n",
    "from pyquery import PyQuery as pq\n",
    "\n",
    "# 字符串初始化\n",
    "doc = pq(html)\n",
    "# print(doc('li'))\n",
    "\n",
    "# url初始化\n",
    "print(\"--------------======== url初始化 ========-------------\")\n",
    "docUrl = pq(url=\"http://www.baidu.com\")\n",
    "print(docUrl('head'))\n",
    "\n",
    "# 文件初始化 -> 报错...\n",
    "# doc = pq(filename=\"D:\\TempFiles\\test.html\",encoding=\"UTF-8\")\n",
    "# print(doc('li'))\n",
    "\n",
    "# 基本CSS选择器\n",
    "print(\"--------------======== 基本CSS选择器 ========-------------\")\n",
    "print(doc('#container .list li')) # 等效于 print(doc('li'))\n",
    "\n",
    "\n",
    "# 查找元素\n",
    "# 子元素\n",
    "print(\"--------------======== 子元素 ========-------------\")\n",
    "items = doc('.list')\n",
    "print(type(items))\n",
    "print(items)\n",
    "print(\"--------------======== find('li') ========-------------\")\n",
    "lis = items.find('li')\n",
    "print(lis)\n",
    "print(\"--------------======== find('#apple-2') ========-------------\")\n",
    "myid = items.find('#apple-2')\n",
    "print(myid)\n",
    "print(myid.text())\n",
    "print(\"--------------======== children('.active') ========-------------\")\n",
    "items = doc('.list')\n",
    "children = items.children('.active')\n",
    "print(children)\n",
    "\n",
    "# 父元素\n",
    "print(\"--------------======== 父元素 ========-------------\")\n",
    "print(\"--------------======== parent ========-------------\")\n",
    "items = doc('#apple-2')\n",
    "parent = items.parent()\n",
    "print(parent)\n",
    "print(\"--------------======== parents ========-------------\")\n",
    "parents = items.parents()\n",
    "print(parents)\n",
    "print(\"--------------======== parents('.list') ========-------------\")\n",
    "parent = items.parents('.list')\n",
    "print(parent)\n",
    "\n",
    "# 兄弟元素 注: 后面两个class属性相连接,中间没有空格\n",
    "print(\"--------------======== 兄弟元素 ========-------------\")\n",
    "brothers = doc('.list .element-0.active')\n",
    "print(brothers.siblings())\n",
    "print(brothers.siblings('.active'))\n",
    "\n",
    "# 遍历\n",
    "print(\"--------------======== 遍历 ========-------------\")\n",
    "items = doc('li').items()\n",
    "# print(items)\n",
    "for li in items:\n",
    "    print(li)\n",
    "\n",
    "# 获取属性\n",
    "# 🍎 如何获取 class ???\n",
    "print(\"--------------======== 获取属性 ========-------------\")\n",
    "a = doc('.element-1.active a')\n",
    "print(a)\n",
    "print(a.attr['href'])\n",
    "print(a.attr.href)\n",
    "print(\"--------------======== 获取文本 ========-------------\")\n",
    "print(a.text())\n",
    "print(\"--------------======== 获取HTML ========-------------\")\n",
    "a = doc('.element-1.active')\n",
    "print(a)\n",
    "print(a.html())\n"
   ]
  },
  {
   "cell_type": "markdown",
   "id": "4e13caec",
   "metadata": {},
   "source": [
    "## DOM操作"
   ]
  },
  {
   "cell_type": "code",
   "execution_count": 123,
   "id": "a877c97e",
   "metadata": {},
   "outputs": [
    {
     "name": "stdout",
     "output_type": "stream",
     "text": [
      "--------------======== addClass & removeClass ========-------------\n",
      "<li class=\"item-0 active\"><a href=\"link3.html\"><span class=\"bold\">third item</span></a></li>\n",
      "             \n",
      "<li class=\"item-0\"><a href=\"link3.html\"><span class=\"bold\">third item</span></a></li>\n",
      "             \n",
      "<li class=\"item-0 active\"><a href=\"link3.html\"><span class=\"bold\">third item</span></a></li>\n",
      "             \n",
      "--------------======== attr & css ========-------------\n",
      "<li class=\"item-0 active\" name=\"link\"><a href=\"link3.html\"><span class=\"bold\">third item</span></a></li>\n",
      "             \n",
      "<li class=\"item-0 active\" name=\"link\" style=\"font-size: 16px\"><a href=\"link3.html\"><span class=\"bold\">third item</span></a></li>\n",
      "             \n",
      "--------------======== remove ========-------------\n",
      "Hello, World\n",
      "This is a paragraph.\n",
      "--------------================-------------\n",
      "Hello, World\n"
     ]
    }
   ],
   "source": [
    "html = \"\"\"\n",
    "<div class=\"wrap\">\n",
    "    <div id=\"container\">\n",
    "        <ul class=\"list\">\n",
    "             <li class=\"item-0\">first item</li>\n",
    "             <li class=\"item-1\"><a href=\"link2.html\">second item</a></li>\n",
    "             <li class=\"item-0 active\"><a href=\"link3.html\"><span class=\"bold\">third item</span></a></li>\n",
    "             <li class=\"item-1 active\"><a href=\"link4.html\">fourth item</a></li>\n",
    "             <li class=\"item-0\"><a href=\"link5.html\">fifth item</a></li>\n",
    "        </ul>\n",
    "    </div>\n",
    "</div>\n",
    "\"\"\"\n",
    "from pyquery import PyQuery as pq\n",
    "\n",
    "doc = pq(html)\n",
    "\n",
    "# addClass & removeClass\n",
    "print(\"--------------======== addClass & removeClass ========-------------\")\n",
    "li = doc('.item-0.active')\n",
    "print(li)\n",
    "li.removeClass('active')\n",
    "print(li)\n",
    "li.addClass('active')\n",
    "print(li)\n",
    "\n",
    "# attr & css\n",
    "print(\"--------------======== attr & css ========-------------\")\n",
    "li.attr('name','link')\n",
    "print(li)\n",
    "li.css('font-size','16px')\n",
    "print(li)\n",
    "\n",
    "# remove\n",
    "print(\"--------------======== remove ========-------------\")\n",
    "html = \"\"\"\n",
    "<div class=\"wrap\">\n",
    "    Hello, World\n",
    "    <p>This is a paragraph.</p>\n",
    "</div>\n",
    "\"\"\"\n",
    "from pyquery import PyQuery as pq\n",
    "\n",
    "doc = pq(html)\n",
    "wrap = doc('.wrap')\n",
    "print(wrap.text())\n",
    "# print(wrap.html())\n",
    "wrap.find('p').remove()\n",
    "print(\"--------------================-------------\")\n",
    "print(wrap.text())\n"
   ]
  },
  {
   "cell_type": "markdown",
   "id": "24f7f61e",
   "metadata": {},
   "source": [
    "### 更多DOM方法\n",
    "https://pyquery.readthedocs.io/en/latest/api.html"
   ]
  },
  {
   "cell_type": "markdown",
   "id": "cfcebb76",
   "metadata": {},
   "source": [
    "## 伪类选择器"
   ]
  },
  {
   "cell_type": "code",
   "execution_count": 2,
   "id": "046cbbb7",
   "metadata": {
    "scrolled": true
   },
   "outputs": [
    {
     "name": "stdout",
     "output_type": "stream",
     "text": [
      "<li class=\"item-0\">first item</li>\n",
      "             \n",
      "<li class=\"item-0\"><a href=\"link5.html\">fifth item</a></li>\n",
      "        \n",
      "<li class=\"item-1\"><a href=\"link2.html\">second item</a></li>\n",
      "             \n",
      "<li class=\"item-1 active\"><a href=\"link4.html\">fourth item</a></li>\n",
      "             <li class=\"item-0\"><a href=\"link5.html\">fifth item</a></li>\n",
      "        \n",
      "<li class=\"item-1\"><a href=\"link2.html\">second item</a></li>\n",
      "             <li class=\"item-1 active\"><a href=\"link4.html\">fourth item</a></li>\n",
      "             \n",
      "<li class=\"item-1 active\"><a href=\"link4.html\">fourth item</a></li>\n",
      "             \n"
     ]
    }
   ],
   "source": [
    "html = \"\"\"\n",
    "<div class=\"wrap\">\n",
    "    <div id=\"container\">\n",
    "        <ul class=\"list\">\n",
    "             <li class=\"item-0\">first item</li>\n",
    "             <li class=\"item-1\"><a href=\"link2.html\">second item</a></li>\n",
    "             <li class=\"item-0 active\"><a href=\"link3.html\"><span class=\"bold\">third item</span></a></li>\n",
    "             <li class=\"item-1 active\"><a href=\"link4.html\">fourth item</a></li>\n",
    "             <li class=\"item-0\"><a href=\"link5.html\">fifth item</a></li>\n",
    "        </ul>\n",
    "    </div>\n",
    "</div>\n",
    "\"\"\"\n",
    "from pyquery import PyQuery as pq\n",
    "\n",
    "doc = pq(html)\n",
    "li = doc('li:first-child')\n",
    "print(li)\n",
    "li = doc('li:last-child')\n",
    "print(li)\n",
    "li = doc('li:nth-child(2)')\n",
    "print(li)\n",
    "li = doc('li:gt(2)')\n",
    "print(li)\n",
    "li = doc('li:nth-child(2n)') # 2n 指2的倍数; 3n 指3的倍数 -> 从1开始计数\n",
    "print(li)\n",
    "li = doc('li:contains(fourth)')\n",
    "print(li)"
   ]
  },
  {
   "cell_type": "code",
   "execution_count": null,
   "id": "5408ed9f",
   "metadata": {},
   "outputs": [],
   "source": []
  },
  {
   "cell_type": "code",
   "execution_count": 39,
   "id": "c55c22c8",
   "metadata": {
    "ExecuteTime": {
     "end_time": "2021-12-17T09:10:33.571906Z",
     "start_time": "2021-12-17T09:10:33.539904Z"
    }
   },
   "outputs": [
    {
     "data": {
      "text/plain": [
       "'C:\\\\fastwork\\\\Python\\\\JupyterNotebook'"
      ]
     },
     "execution_count": 39,
     "metadata": {},
     "output_type": "execute_result"
    }
   ],
   "source": [
    "%pwd"
   ]
  },
  {
   "cell_type": "code",
   "execution_count": null,
   "id": "1cd586c0",
   "metadata": {},
   "outputs": [],
   "source": []
  },
  {
   "cell_type": "code",
   "execution_count": 38,
   "id": "6f59cc32",
   "metadata": {
    "ExecuteTime": {
     "end_time": "2021-12-17T08:49:31.917539Z",
     "start_time": "2021-12-17T08:49:31.902409Z"
    }
   },
   "outputs": [
    {
     "name": "stdout",
     "output_type": "stream",
     "text": [
      "{'title': '杉城 圣诞节礼物 肉类休闲零食大礼包一整箱送女友女生儿童礼盒美食品超市好吃的组合装1800g'}\n"
     ]
    }
   ],
   "source": [
    "import re\n",
    "from pyquery import PyQuery as pq\n",
    "\n",
    "html = \"\"\"\n",
    "<div class=\"p-name p-name-type-2\">\n",
    "\t\t\t\t\t\t\t<a target=\"_blank\" title=\"网红零食大礼包大牌直降；买一箱送一箱；日式小圆饼单包4.95；嗨吃家酸辣粉等份量满满，戳我立抢！！杉城吃货节\" href=\"//item.jd.com/100012076422.html\" onclick=\"searchlog(1, '100012076422','1','1','','flagsClk=2097626');\">\n",
    "\t\t\t\t\t\t\t\t<em><span class=\"p-tag\" style=\"background-color:#c81623\">京东超市</span>\t\n",
    "杉城 圣诞节礼物 肉类休闲零食大礼包一整箱送女友女生儿童礼盒<font class=\"skcolor_ljg\">美食</font>品超市好吃的组合装1800g</em>\n",
    "\t\t\t\t\t\t\t\t<i class=\"promo-words\" id=\"J_AD_100012076422\">网红零食大礼包大牌直降；买一箱送一箱；日式小圆饼单包4.95；嗨吃家酸辣粉等份量满满，戳我立抢！！杉城吃货节</i>\n",
    "\t\t\t\t\t\t\t</a>\n",
    "\t\t\t\t\t\t</div>\n",
    "\"\"\"\n",
    "# r = re.search('</span>.*?(.*?).*?</em>', html, re.S)[0]\n",
    "# print(r)\n",
    "# print('----------------')\n",
    "# print(re.sub('<[^>]*>', '', r_))\n",
    "\n",
    "doc = pq(html)\n",
    "\n",
    "item = doc('.p-name em')\n",
    "item.find('span').remove()\n",
    "\n",
    "product = {\n",
    "    'title': item.text().replace('\\n', '')\n",
    "}\n",
    "\n",
    "print(product)\n"
   ]
  },
  {
   "cell_type": "code",
   "execution_count": 6,
   "id": "62ab8f29",
   "metadata": {
    "ExecuteTime": {
     "end_time": "2021-12-17T07:57:52.041834Z",
     "start_time": "2021-12-17T07:57:52.030835Z"
    }
   },
   "outputs": [
    {
     "name": "stdout",
     "output_type": "stream",
     "text": [
      "另外一个a标签\n"
     ]
    }
   ],
   "source": [
    "html = \"\"\"\n",
    "<div id=\"container\" class=\"box\">\n",
    "    <ul type=\"disc\" class=\"list\" id=\"list-1\">\n",
    "        <li class=\"element-0\">苹果</li>\n",
    "        <li class=\"element-1\">香蕉</li>\n",
    "        <li class=\"element\">柠檬</li>\n",
    "    </ul>  \n",
    "    <ul type=\"circle\" class=\"aaa\" id=\"list-2\">\n",
    "        <li class=\"element-0 active\" id=\"apple-2\">苹</li>\n",
    "        <a target=\"_blank\" \n",
    "        title=\"零食大礼包休闲食品卤味肉类充饥80包 买一箱香辣））\" href=\"//item.jd.com/10030146281552.html\" onclick=\"searchlog(1, '10030146281552','1','1','','flagsClk=2097165');\">\n",
    "\t\t\t\t\t\t\t</a>\n",
    "        <a title=\"另外一个a标签\"></a>\n",
    "        <li class=\"element-1 active\"><a href=\"http://www.baidu.com\">香</a></li>\n",
    "        <li class=\"element\">柠</li>\n",
    "    </ul>\n",
    "</div>\n",
    "\"\"\"\n",
    "from pyquery import PyQuery as pq\n",
    "\n",
    "doc = pq(html)\n",
    "\n",
    "items = doc('#container').items()\n",
    "for item in items:\n",
    "    title = item.find('.aaa a').attr('title')\n",
    "    print(title)\n",
    "    \n"
   ]
  },
  {
   "cell_type": "code",
   "execution_count": null,
   "id": "097614e3",
   "metadata": {},
   "outputs": [],
   "source": []
  },
  {
   "cell_type": "markdown",
   "id": "dbfba5ae",
   "metadata": {},
   "source": [
    "### 更多CSS选择器👉https://www.w3school.com.cn/css/index.asp"
   ]
  },
  {
   "cell_type": "markdown",
   "id": "d7fb4cdf",
   "metadata": {},
   "source": [
    "## 官方文档\n",
    "https://pyquery.readthedocs.io/"
   ]
  },
  {
   "cell_type": "markdown",
   "id": "1251204f",
   "metadata": {},
   "source": [
    "## 总结\n",
    "\n",
    "```python\n",
    "doc = pq(html)\n",
    "doc('id/class/tag').items/find/children/parent/parents/siblings/attr/text/html/addClass/removeClass/remove\n",
    "```\n"
   ]
  },
  {
   "cell_type": "code",
   "execution_count": null,
   "id": "baf3b72d",
   "metadata": {},
   "outputs": [],
   "source": []
  }
 ],
 "metadata": {
  "kernelspec": {
   "display_name": "Python 3 (ipykernel)",
   "language": "python",
   "name": "python3"
  },
  "language_info": {
   "codemirror_mode": {
    "name": "ipython",
    "version": 3
   },
   "file_extension": ".py",
   "mimetype": "text/x-python",
   "name": "python",
   "nbconvert_exporter": "python",
   "pygments_lexer": "ipython3",
   "version": "3.10.0"
  },
  "toc": {
   "base_numbering": 1,
   "nav_menu": {},
   "number_sections": true,
   "sideBar": true,
   "skip_h1_title": false,
   "title_cell": "Table of Contents",
   "title_sidebar": "Contents",
   "toc_cell": false,
   "toc_position": {},
   "toc_section_display": true,
   "toc_window_display": false
  }
 },
 "nbformat": 4,
 "nbformat_minor": 5
}
